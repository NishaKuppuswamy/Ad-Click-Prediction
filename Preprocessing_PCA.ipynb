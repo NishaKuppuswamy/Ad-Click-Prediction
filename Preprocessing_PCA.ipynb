{
 "cells": [
  {
   "cell_type": "code",
   "execution_count": 1,
   "metadata": {},
   "outputs": [],
   "source": [
    "import pandas as pd\n",
    "import seaborn as sns\n"
   ]
  },
  {
   "cell_type": "markdown",
   "metadata": {},
   "source": [
    "## Events has geo_location which has null entries. Lets modify those entries to have the highest frequency entries and write them back to the file.\n"
   ]
  },
  {
   "cell_type": "code",
   "execution_count": null,
   "metadata": {},
   "outputs": [],
   "source": [
    "events_df = pd.read_csv('events.csv')\n",
    "print(events_df.isnull().sum())\n",
    "events_df = events_df.fillna(events_df.geo_location.value_counts().index[0])\n",
    "print(events_df.isnull().sum())\n",
    "# to_csv : index = False, don't write the index column, duh!\n",
    "events_df.to_csv('events.csv', index=False)"
   ]
  },
  {
   "cell_type": "markdown",
   "metadata": {},
   "source": [
    "## Do the same for page_views_sample"
   ]
  },
  {
   "cell_type": "code",
   "execution_count": null,
   "metadata": {},
   "outputs": [],
   "source": [
    "page_views_df = pd.read_csv('page_views_sample.csv')\n",
    "print(page_views_df.isnull().sum())\n",
    "events_df = page_views_df.fillna(page_views_df.geo_location.value_counts().index[0])\n",
    "print(page_views_df.isnull().sum())\n",
    "page_views_df.to_csv('page_views_sample.csv', index=False)"
   ]
  },
  {
   "cell_type": "markdown",
   "metadata": {},
   "source": [
    "# Transform the documents_to_* datasets to include only those relations ships where we have higher confidence(80%).\n"
   ]
  },
  {
   "cell_type": "code",
   "execution_count": null,
   "metadata": {},
   "outputs": [],
   "source": [
    "documents_categories_df = pd.read_csv('documents_categories.csv')\n",
    "print(len(documents_categories_df))\n",
    "documents_categories_df = documents_categories_df[documents_categories_df.confidence_level > 0.8]\n",
    "print(len(documents_categories_df))\n",
    "documents_categories_df = documents_categories_df.drop(['confidence_level'],axis=1)\n",
    "documents_categories_df.to_csv('modified_documents_categories.csv', index=False)"
   ]
  },
  {
   "cell_type": "code",
   "execution_count": null,
   "metadata": {},
   "outputs": [],
   "source": [
    "documents_entities_df = pd.read_csv('documents_entities.csv')\n",
    "print(len(documents_entities_df))\n",
    "documents_entities_df = documents_entities_df[documents_entities_df.confidence_level > 0.8]\n",
    "print(len(documents_entities_df))\n",
    "documents_entities_df= documents_entities_df.drop(['confidence_level'],axis=1)\n",
    "documents_entities_df.to_csv('modified_documents_entities.csv',index=False)"
   ]
  },
  {
   "cell_type": "code",
   "execution_count": null,
   "metadata": {},
   "outputs": [],
   "source": [
    "documents_topics_df = pd.read_csv('documents_topics.csv')\n",
    "print(len(documents_topics_df))\n",
    "documents_topics_df = documents_topics_df[documents_topics_df.confidence_level > 0.8]\n",
    "print(len(documents_topics_df))\n",
    "documents_topics_df = documents_topics_df.drop(['confidence_level'],axis=1)\n",
    "documents_topics_df.to_csv('modified_documents_topics.csv',index=False)"
   ]
  },
  {
   "cell_type": "code",
   "execution_count": 32,
   "metadata": {},
   "outputs": [],
   "source": [
    "# Read all the documents \"metadata\" and merge them on document ID\n",
    "documents_categories_df = pd.read_csv('documents_categories.csv')\n",
    "documents_entities_df = pd.read_csv('documents_entities.csv')\n",
    "documents_topics_df = pd.read_csv('documents_topics.csv')\n",
    "doc_mrg = documents_categories_df.merge(documents_entities_df, on='document_id',how='inner')\n",
    "doc_mrg = doc_mrg.merge(documents_topics_df,on='document_id',how='inner')"
   ]
  },
  {
   "cell_type": "markdown",
   "metadata": {},
   "source": [
    "### Perform the Chi Squared test on the category_id, topic_id and entity_id variables, the conclusion is that they are all correlated since the P-value is 0 for all of them. Hence only chose category_id for analysis."
   ]
  },
  {
   "cell_type": "code",
   "execution_count": 35,
   "metadata": {},
   "outputs": [
    {
     "data": {
      "text/plain": [
       "0.0"
      ]
     },
     "execution_count": 35,
     "metadata": {},
     "output_type": "execute_result"
    }
   ],
   "source": [
    "ct = pd.crosstab(doc_mrg['category_id'], doc_mrg['topic_id'])\n",
    "import scipy.stats as stats\n",
    "stats.chi2_contingency(ct)[1]"
   ]
  },
  {
   "cell_type": "code",
   "execution_count": 36,
   "metadata": {},
   "outputs": [
    {
     "data": {
      "text/plain": [
       "0.0"
      ]
     },
     "execution_count": 36,
     "metadata": {},
     "output_type": "execute_result"
    }
   ],
   "source": [
    "ct = pd.crosstab(doc_mrg['category_id'], doc_mrg['entity_id'])\n",
    "import scipy.stats as stats\n",
    "stats.chi2_contingency(ct)[1]"
   ]
  },
  {
   "cell_type": "code",
   "execution_count": 39,
   "metadata": {},
   "outputs": [
    {
     "data": {
      "text/plain": [
       "0.0"
      ]
     },
     "execution_count": 39,
     "metadata": {},
     "output_type": "execute_result"
    }
   ],
   "source": [
    "ct = pd.crosstab(doc_mrg['topic_id'], doc_mrg['entity_id'])\n",
    "import scipy.stats as stats\n",
    "stats.chi2_contingency(ct)[1]"
   ]
  },
  {
   "cell_type": "code",
   "execution_count": null,
   "metadata": {},
   "outputs": [],
   "source": [
    "# Preprocess for chi squared test\n",
    "counts = promoted_df['campaign_id'].value_counts()\n",
    "promoted_df = promoted_df[promoted_df['campaign_id'].isin(counts[counts > 5].index)]\n",
    "print(promoted_df['campaign_id'].value_counts())\n",
    "\n",
    "counts = promoted_df['advertiser_id'].value_counts()\n",
    "promoted_df = promoted_df[promoted_df['advertiser_id'].isin(counts[counts > 5].index)]\n",
    "print(promoted_df['advertiser_id'].value_counts())\n",
    "\n",
    "ct = pd.crosstab(promoted_df['campaign_id'], promoted_df['advertiser_id'])\n",
    "import scipy.stats as stats\n",
    "stats.chi2_contingency(ct)[1]"
   ]
  },
  {
   "cell_type": "code",
   "execution_count": 57,
   "metadata": {},
   "outputs": [],
   "source": [
    "documents_categories_df = pd.read_csv('modified_documents_categories.csv')\n",
    "documents_meta_df = pd.read_csv(\"documents_meta.csv\")\n",
    "documents_cat_meta_merge = documents_categories_df.merge(documents_meta_df, on='document_id', how='left')\n",
    "del documents_categories_df\n",
    "del documents_meta_df"
   ]
  },
  {
   "cell_type": "code",
   "execution_count": 60,
   "metadata": {},
   "outputs": [],
   "source": [
    "click_train_df =  pd.read_csv(\"clicks_train.csv\")\n",
    "promoted_content_df = pd.read_csv(\"promoted_content.csv\")\n",
    "train_promoted_merge = click_train_df.merge(promoted_content_df,on='ad_id', how='left')\n",
    "del click_train_df\n",
    "del promoted_content_df"
   ]
  },
  {
   "cell_type": "code",
   "execution_count": 55,
   "metadata": {},
   "outputs": [
    {
     "name": "stdout",
     "output_type": "stream",
     "text": [
      "722.0      235463\n",
      "948.0      211671\n",
      "3670.0      41516\n",
      "3669.0      30631\n",
      "3962.0      23941\n",
      "417.0       22432\n",
      "12649.0     20718\n",
      "5326.0      20226\n",
      "3307.0      17222\n",
      "1907.0      16956\n",
      "3.0         16709\n",
      "822.0       16166\n",
      "6698.0      15585\n",
      "475.0       15530\n",
      "4789.0      14201\n",
      "1032.0      13822\n",
      "10030.0     13223\n",
      "1.0         12867\n",
      "481.0       12491\n",
      "1516.0      12412\n",
      "5792.0      11923\n",
      "408.0       10754\n",
      "105.0       10514\n",
      "7267.0      10464\n",
      "93.0        10249\n",
      "353.0       10024\n",
      "363.0        9624\n",
      "5815.0       9395\n",
      "6914.0       9363\n",
      "7302.0       9241\n",
      "            ...  \n",
      "7216.0          6\n",
      "7242.0          6\n",
      "7248.0          6\n",
      "7298.0          6\n",
      "7309.0          6\n",
      "9665.0          6\n",
      "7326.0          6\n",
      "7362.0          6\n",
      "12548.0         6\n",
      "2299.0          6\n",
      "7024.0          6\n",
      "7009.0          6\n",
      "6847.0          6\n",
      "6718.0          6\n",
      "6743.0          6\n",
      "2386.0          6\n",
      "9831.0          6\n",
      "12777.0         6\n",
      "2367.0          6\n",
      "6834.0          6\n",
      "9802.0          6\n",
      "6973.0          6\n",
      "9757.0          6\n",
      "12663.0         6\n",
      "9739.0          6\n",
      "12659.0         6\n",
      "9723.0          6\n",
      "6954.0          6\n",
      "12653.0         6\n",
      "11131.0         6\n",
      "Name: source_id, Length: 7341, dtype: int64\n",
      "925.0     239490\n",
      "450.0     218511\n",
      "440.0     101645\n",
      "435.0      95561\n",
      "255.0      68280\n",
      "388.0      67781\n",
      "151.0      67685\n",
      "1161.0     43203\n",
      "328.0      41620\n",
      "740.0      40754\n",
      "61.0       40301\n",
      "9.0        36143\n",
      "421.0      35006\n",
      "265.0      31309\n",
      "158.0      30658\n",
      "233.0      28395\n",
      "27.0       26631\n",
      "236.0      25043\n",
      "118.0      24719\n",
      "433.0      24269\n",
      "206.0      23584\n",
      "743.0      22455\n",
      "56.0       21491\n",
      "1217.0     20718\n",
      "74.0       20594\n",
      "58.0       20590\n",
      "78.0       20356\n",
      "876.0      20226\n",
      "202.0      19626\n",
      "84.0       18593\n",
      "           ...  \n",
      "689.0          7\n",
      "955.0          7\n",
      "499.0          7\n",
      "87.0           7\n",
      "970.0          6\n",
      "473.0          6\n",
      "1105.0         6\n",
      "485.0          6\n",
      "1019.0         6\n",
      "1041.0         6\n",
      "1068.0         6\n",
      "1076.0         6\n",
      "961.0          6\n",
      "409.0          6\n",
      "1140.0         6\n",
      "445.0          6\n",
      "1144.0         6\n",
      "1184.0         6\n",
      "1200.0         6\n",
      "1247.0         6\n",
      "614.0          6\n",
      "766.0          6\n",
      "764.0          6\n",
      "755.0          6\n",
      "1258.0         6\n",
      "80.0           6\n",
      "368.0          6\n",
      "94.0           6\n",
      "268.0          6\n",
      "12.0           6\n",
      "Name: publisher_id, Length: 885, dtype: int64\n"
     ]
    }
   ],
   "source": [
    "documents_meta_df = pd.read_csv(\"documents_meta.csv\")\n",
    "counts = documents_meta_df['source_id'].value_counts()\n",
    "documents_meta_df = documents_meta_df[documents_meta_df['source_id'].isin(counts[counts > 5].index)]\n",
    "print(documents_meta_df['source_id'].value_counts())\n",
    "\n",
    "counts = documents_meta_df['publisher_id'].value_counts()\n",
    "documents_meta_df = documents_meta_df[documents_meta_df['publisher_id'].isin(counts[counts > 5].index)]\n",
    "print(documents_meta_df['publisher_id'].value_counts())\n",
    "\n"
   ]
  },
  {
   "cell_type": "code",
   "execution_count": 56,
   "metadata": {},
   "outputs": [
    {
     "data": {
      "text/plain": [
       "0.0"
      ]
     },
     "execution_count": 56,
     "metadata": {},
     "output_type": "execute_result"
    }
   ],
   "source": [
    "ct = pd.crosstab(documents_meta_df['source_id'], documents_meta_df['publisher_id'])\n",
    "import scipy.stats as stats\n",
    "stats.chi2_contingency(ct)[1]"
   ]
  },
  {
   "cell_type": "code",
   "execution_count": 61,
   "metadata": {},
   "outputs": [
    {
     "data": {
      "text/html": [
       "<div>\n",
       "<style scoped>\n",
       "    .dataframe tbody tr th:only-of-type {\n",
       "        vertical-align: middle;\n",
       "    }\n",
       "\n",
       "    .dataframe tbody tr th {\n",
       "        vertical-align: top;\n",
       "    }\n",
       "\n",
       "    .dataframe thead th {\n",
       "        text-align: right;\n",
       "    }\n",
       "</style>\n",
       "<table border=\"1\" class=\"dataframe\">\n",
       "  <thead>\n",
       "    <tr style=\"text-align: right;\">\n",
       "      <th></th>\n",
       "      <th>display_id</th>\n",
       "      <th>ad_id</th>\n",
       "      <th>clicked</th>\n",
       "      <th>document_id</th>\n",
       "      <th>campaign_id</th>\n",
       "      <th>advertiser_id</th>\n",
       "    </tr>\n",
       "  </thead>\n",
       "  <tbody>\n",
       "    <tr>\n",
       "      <th>0</th>\n",
       "      <td>1</td>\n",
       "      <td>42337</td>\n",
       "      <td>0</td>\n",
       "      <td>938164</td>\n",
       "      <td>5969</td>\n",
       "      <td>1499</td>\n",
       "    </tr>\n",
       "    <tr>\n",
       "      <th>1</th>\n",
       "      <td>1</td>\n",
       "      <td>139684</td>\n",
       "      <td>0</td>\n",
       "      <td>1085937</td>\n",
       "      <td>17527</td>\n",
       "      <td>2563</td>\n",
       "    </tr>\n",
       "    <tr>\n",
       "      <th>2</th>\n",
       "      <td>1</td>\n",
       "      <td>144739</td>\n",
       "      <td>1</td>\n",
       "      <td>1337362</td>\n",
       "      <td>18488</td>\n",
       "      <td>2909</td>\n",
       "    </tr>\n",
       "    <tr>\n",
       "      <th>3</th>\n",
       "      <td>1</td>\n",
       "      <td>156824</td>\n",
       "      <td>0</td>\n",
       "      <td>992370</td>\n",
       "      <td>7283</td>\n",
       "      <td>1919</td>\n",
       "    </tr>\n",
       "    <tr>\n",
       "      <th>4</th>\n",
       "      <td>1</td>\n",
       "      <td>279295</td>\n",
       "      <td>0</td>\n",
       "      <td>1670176</td>\n",
       "      <td>27524</td>\n",
       "      <td>1820</td>\n",
       "    </tr>\n",
       "  </tbody>\n",
       "</table>\n",
       "</div>"
      ],
      "text/plain": [
       "   display_id   ad_id  clicked  document_id  campaign_id  advertiser_id\n",
       "0           1   42337        0       938164         5969           1499\n",
       "1           1  139684        0      1085937        17527           2563\n",
       "2           1  144739        1      1337362        18488           2909\n",
       "3           1  156824        0       992370         7283           1919\n",
       "4           1  279295        0      1670176        27524           1820"
      ]
     },
     "execution_count": 61,
     "metadata": {},
     "output_type": "execute_result"
    }
   ],
   "source": [
    "train_promoted_merge.head()"
   ]
  },
  {
   "cell_type": "code",
   "execution_count": 62,
   "metadata": {},
   "outputs": [],
   "source": [
    "doc_train_promoted_merge = train_promoted_merge.merge(documents_cat_meta_merge,on='document_id', how='left')"
   ]
  },
  {
   "cell_type": "code",
   "execution_count": 63,
   "metadata": {},
   "outputs": [],
   "source": [
    "del train_promoted_merge"
   ]
  },
  {
   "cell_type": "code",
   "execution_count": 67,
   "metadata": {},
   "outputs": [
    {
     "data": {
      "text/plain": [
       "display_id              0\n",
       "ad_id                   0\n",
       "clicked                 0\n",
       "document_id             0\n",
       "campaign_id             0\n",
       "advertiser_id           0\n",
       "category_id      32343908\n",
       "source_id        32393592\n",
       "publisher_id     68782322\n",
       "publish_time     40527670\n",
       "dtype: int64"
      ]
     },
     "execution_count": 67,
     "metadata": {},
     "output_type": "execute_result"
    }
   ],
   "source": [
    "doc_train_promoted_merge.isnull().sum()"
   ]
  },
  {
   "cell_type": "code",
   "execution_count": 71,
   "metadata": {},
   "outputs": [],
   "source": [
    "doc_train_promoted_merge.dropna(inplace=True)"
   ]
  },
  {
   "cell_type": "code",
   "execution_count": 72,
   "metadata": {},
   "outputs": [
    {
     "data": {
      "text/plain": [
       "16908138"
      ]
     },
     "execution_count": 72,
     "metadata": {},
     "output_type": "execute_result"
    }
   ],
   "source": []
  },
  {
   "cell_type": "code",
   "execution_count": 73,
   "metadata": {},
   "outputs": [],
   "source": [
    "doc_train_promoted_merge.to_csv('merge_documents_training_promoted_content.csv',index=False)\n",
    "del doc_train_promoted_merge"
   ]
  },
  {
   "cell_type": "code",
   "execution_count": null,
   "metadata": {},
   "outputs": [],
   "source": [
    "events_df = pd.read_csv('events.csv')\n"
   ]
  },
  {
   "cell_type": "code",
   "execution_count": 6,
   "metadata": {},
   "outputs": [],
   "source": [
    "events_df.drop(['uuid', 'document_id','geo_location','timestamp'],axis=1,inplace=True)\n"
   ]
  },
  {
   "cell_type": "code",
   "execution_count": 8,
   "metadata": {},
   "outputs": [],
   "source": [
    "events_df.to_csv('modified_events.csv',index=False)"
   ]
  },
  {
   "cell_type": "code",
   "execution_count": 10,
   "metadata": {},
   "outputs": [],
   "source": [
    "del events_df"
   ]
  },
  {
   "cell_type": "code",
   "execution_count": null,
   "metadata": {},
   "outputs": [],
   "source": [
    "doc_train_promoted_merge = pd.read_csv('merge_documents_training_promoted_content.csv')\n",
    "events_df = pd.read_csv('modified_events.csv')"
   ]
  },
  {
   "cell_type": "code",
   "execution_count": 15,
   "metadata": {},
   "outputs": [],
   "source": [
    "final_dataset = doc_train_promoted_merge.merge(events_df, on='display_id', how='left')"
   ]
  },
  {
   "cell_type": "code",
   "execution_count": 21,
   "metadata": {},
   "outputs": [],
   "source": [
    "final_dataset.to_csv('final_dataset.csv',index=False)\n",
    "del final_dataset\n"
   ]
  },
  {
   "cell_type": "code",
   "execution_count": null,
   "metadata": {},
   "outputs": [],
   "source": [
    "final_dataset = pd.read_csv('final_dataset.csv')\n",
    "final_dataset.platform = final_dataset.platform.astype(str)\n"
   ]
  },
  {
   "cell_type": "code",
   "execution_count": 77,
   "metadata": {},
   "outputs": [
    {
     "data": {
      "text/plain": [
       "array(['2', '3', '1', '\\\\N'], dtype=object)"
      ]
     },
     "execution_count": 77,
     "metadata": {},
     "output_type": "execute_result"
    }
   ],
   "source": []
  },
  {
   "cell_type": "code",
   "execution_count": 78,
   "metadata": {},
   "outputs": [],
   "source": [
    "#one hot encoding on platform\n",
    "final_dataset = pd.get_dummies(data=final_dataset,columns=['platform'],prefix=['platform'])"
   ]
  },
  {
   "cell_type": "code",
   "execution_count": 79,
   "metadata": {},
   "outputs": [],
   "source": [
    "final_dataset.drop(['campaign_id'],axis=1,inplace=True)\n",
    "final_dataset.drop(['source_id'],axis=1,inplace=True)\n",
    "final_dataset.drop(['publish_time'],axis=1,inplace=True)\n",
    "final_dataset.drop(['platform_\\\\N'],axis=1,inplace=True)"
   ]
  },
  {
   "cell_type": "code",
   "execution_count": 81,
   "metadata": {},
   "outputs": [],
   "source": [
    "final_dataset.to_csv('final_dataset.csv',index=False)\n",
    "del final_dataset\n"
   ]
  },
  {
   "cell_type": "code",
   "execution_count": null,
   "metadata": {},
   "outputs": [],
   "source": [
    "final_dataset = pd.read_csv('final_dataset.csv')\n",
    "# Drop for processing\n",
    "final_dataset_processing = final_dataset.drop(['display_id','ad_id','document_id'],axis=1,inplace=True)\n",
    "final_dataset_processing.to_csv('final_processing.csv', index=False)\n",
    "del final_dataset_processing"
   ]
  },
  {
   "cell_type": "code",
   "execution_count": 2,
   "metadata": {},
   "outputs": [],
   "source": [
    "final_dataset_processing = pd.read_csv('final_processing.csv')"
   ]
  },
  {
   "cell_type": "code",
   "execution_count": 6,
   "metadata": {},
   "outputs": [
    {
     "data": {
      "text/plain": [
       "clicked            2\n",
       "advertiser_id    646\n",
       "category_id       90\n",
       "publisher_id     563\n",
       "platform_1         1\n",
       "platform_2         1\n",
       "platform_3         1\n",
       "dtype: int64"
      ]
     },
     "execution_count": 6,
     "metadata": {},
     "output_type": "execute_result"
    }
   ],
   "source": []
  },
  {
   "cell_type": "code",
   "execution_count": 5,
   "metadata": {},
   "outputs": [
    {
     "name": "stdout",
     "output_type": "stream",
     "text": [
      "16908132\n",
      "16908138\n"
     ]
    }
   ],
   "source": [
    "platform1_dataset=final_dataset_processing[final_dataset_processing.platform_1 == 1]\n",
    "platform2_dataset=final_dataset_processing[final_dataset_processing.platform_2 == 1]\n",
    "platform3_dataset=final_dataset_processing[final_dataset_processing.platform_3 == 1]\n",
    "print(len(platform1_dataset) + len(platform2_dataset) + len(platform3_dataset))\n",
    "# remaining account for '/N' platform value\n",
    "print(len(final_dataset_processing))"
   ]
  },
  {
   "cell_type": "markdown",
   "metadata": {},
   "source": [
    "## Due to memory constraints, I have to resort to splitting the dataset according to platforms the traffic originated from. This results in three different datasets which can further be tested accordingly by dividing the test data based on platform it originated from."
   ]
  },
  {
   "cell_type": "markdown",
   "metadata": {},
   "source": [
    "### Perform one hot encoding on each of the datasets for all the features and write them back to files."
   ]
  },
  {
   "cell_type": "code",
   "execution_count": null,
   "metadata": {},
   "outputs": [],
   "source": [
    "platform1_dataset.drop(['platform_1','platform_2','platform_3'],axis=1,inplace=True)\n",
    "platform1_dataset = pd.get_dummies(data=platform1_dataset,columns=['advertiser_id'],prefix=['adv'])\n",
    "platform1_dataset = pd.get_dummies(data=platform1_dataset,columns=['category_id'],prefix=['cat'])\n",
    "platform1_dataset = pd.get_dummies(data=platform1_dataset,columns=['publisher_id'],prefix=['pub'])\n",
    "platform1_dataset.to_csv('platform1_dataset_processing.csv',index=False)"
   ]
  },
  {
   "cell_type": "code",
   "execution_count": null,
   "metadata": {},
   "outputs": [],
   "source": [
    "platform2_dataset.drop(['platform_1','platform_2','platform_3'],axis=1,inplace=True)\n",
    "platform2_dataset = pd.get_dummies(data=platform2_dataset,columns=['advertiser_id'],prefix=['adv'])\n",
    "platform2_dataset = pd.get_dummies(data=platform2_dataset,columns=['category_id'],prefix=['cat'])\n",
    "platform2_dataset = pd.get_dummies(data=platform2_dataset,columns=['publisher_id'],prefix=['pub'])\n",
    "platform2_dataset.to_csv('platform2_dataset_processing.csv',index=False)"
   ]
  },
  {
   "cell_type": "code",
   "execution_count": null,
   "metadata": {},
   "outputs": [],
   "source": [
    "platform3_dataset=final_dataset_processing[final_dataset_processing.platform_3 == 1]\n",
    "platform3_dataset.drop(['platform_1','platform_2','platform_3'],axis=1,inplace=True)\n",
    "platform3_dataset = pd.get_dummies(data=platform3_dataset,columns=['advertiser_id'],prefix=['adv'])\n",
    "platform3_dataset = pd.get_dummies(data=platform3_dataset,columns=['category_id'],prefix=['cat'])\n",
    "platform3_dataset = pd.get_dummies(data=platform3_dataset,columns=['publisher_id'],prefix=['pub'])\n"
   ]
  },
  {
   "cell_type": "code",
   "execution_count": null,
   "metadata": {},
   "outputs": [],
   "source": [
    "print(final_dataset_processing.nunique())\n",
    "print(platform1_dataset.nunique())\n",
    "print(platform2_dataset.nunique())\n",
    "print(platform3_dataset.nunique())"
   ]
  },
  {
   "cell_type": "code",
   "execution_count": 15,
   "metadata": {},
   "outputs": [],
   "source": [
    "from sklearn.decomposition import PCA"
   ]
  },
  {
   "cell_type": "code",
   "execution_count": null,
   "metadata": {},
   "outputs": [],
   "source": [
    "# Perform PCA\n",
    "features = platform1_dataset.columns[1:]\n",
    "target = platform1_dataset.columns[0:1]\n",
    "x = platform1_dataset.loc[:, features].values\n",
    "y = platform1_dataset.loc[:, target].values\n",
    "\n",
    "del features\n",
    "del target\n",
    "del final_dataset_processing\n",
    "\n",
    "from sklearn.decomposition import PCA\n",
    "pca = PCA(0.95)\n",
    "principalComponents = pca.fit_transform(x)\n"
   ]
  },
  {
   "cell_type": "code",
   "execution_count": null,
   "metadata": {},
   "outputs": [],
   "source": [
    "# Perform PCA\n",
    "features = platform2_dataset.columns[1:]\n",
    "target = platform2_dataset.columns[0:1]\n",
    "x = platform2_dataset.loc[:, features].values\n",
    "y = platform2_dataset.loc[:, target].values\n",
    "\n",
    "del features\n",
    "del target\n",
    "del final_dataset_processing\n",
    "\n",
    "pca = PCA(0.95)\n",
    "principalComponents = pca.fit_transform(x)\n"
   ]
  },
  {
   "cell_type": "code",
   "execution_count": null,
   "metadata": {},
   "outputs": [],
   "source": [
    "# Perform PCA\n",
    "features = platform3_dataset.columns[1:]\n",
    "target = platform3_dataset.columns[0:1]\n",
    "x = platform3_dataset.loc[:, features].values\n",
    "y = platform3_dataset.loc[:, target].values\n",
    "\n",
    "del features\n",
    "del target\n",
    "del final_dataset_processing\n",
    "\n",
    "from sklearn.decomposition import PCA\n",
    "pca = PCA(0.95)\n",
    "principalComponents = pca.fit_transform(x)"
   ]
  },
  {
   "cell_type": "code",
   "execution_count": 4,
   "metadata": {},
   "outputs": [
    {
     "data": {
      "text/plain": [
       "159"
      ]
     },
     "execution_count": 4,
     "metadata": {},
     "output_type": "execute_result"
    }
   ],
   "source": [
    "pca.n_components_\n"
   ]
  },
  {
   "cell_type": "code",
   "execution_count": 7,
   "metadata": {},
   "outputs": [
    {
     "data": {
      "text/plain": [
       "0.9505343055637651"
      ]
     },
     "execution_count": 7,
     "metadata": {},
     "output_type": "execute_result"
    }
   ],
   "source": [
    "pca.explained_variance_ratio_.sum()"
   ]
  },
  {
   "cell_type": "code",
   "execution_count": null,
   "metadata": {},
   "outputs": [],
   "source": [
    "#Apply SVM on one of the datasets.\n",
    "from sklearn import svm\n",
    "model = svm.SVC(kernel='linear', C=1.0, gamma=1) \n",
    "model.fit(x, y)\n",
    "model.score(x, y)\n"
   ]
  }
 ],
 "metadata": {
  "kernelspec": {
   "display_name": "Python 3",
   "language": "python",
   "name": "python3"
  },
  "language_info": {
   "codemirror_mode": {
    "name": "ipython",
    "version": 3
   },
   "file_extension": ".py",
   "mimetype": "text/x-python",
   "name": "python",
   "nbconvert_exporter": "python",
   "pygments_lexer": "ipython3",
   "version": "3.7.0"
  }
 },
 "nbformat": 4,
 "nbformat_minor": 2
}
