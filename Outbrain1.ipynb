{
 "cells": [
  {
   "cell_type": "code",
   "execution_count": 1,
   "metadata": {},
   "outputs": [
    {
     "name": "stderr",
     "output_type": "stream",
     "text": [
      "/home/nish_sharon/anaconda3/lib/python3.6/site-packages/sklearn/cross_validation.py:41: DeprecationWarning: This module was deprecated in version 0.18 in favor of the model_selection module into which all the refactored classes and functions are moved. Also note that the interface of the new CV iterators are different from that of this module. This module will be removed in 0.20.\n",
      "  \"This module will be removed in 0.20.\", DeprecationWarning)\n"
     ]
    }
   ],
   "source": [
    "import numpy as np # to perform algebric calculations\n",
    "import pandas as pd # data processing-input as pandas dataframe\n",
    "import os\n",
    "import gc # To clean memory\n",
    "from sklearn.linear_model import LogisticRegression\n",
    "from sklearn.linear_model import SGDClassifier\n",
    "from sklearn.cross_validation import KFold\n",
    "from sklearn.metrics import accuracy_score\n",
    "import warnings\n",
    "warnings.filterwarnings('ignore')"
   ]
  },
  {
   "cell_type": "code",
   "execution_count": 2,
   "metadata": {},
   "outputs": [
    {
     "name": "stdout",
     "output_type": "stream",
     "text": [
      "import completed\n"
     ]
    }
   ],
   "source": [
    "#import CSVs\n",
    "clicks_train = pd.read_csv(\"/home/nisha/Outbrain/clicks_train.csv\")\n",
    "\n",
    "promoted_content = pd.read_csv(\"/home/nisha/Outbrain/promoted_content.csv\")\n",
    "\n",
    "clicks_test=pd.read_csv(\"/home/nisha/Outbrain/clicks_test.csv\")\n",
    "\n",
    "print(\"import completed\")"
   ]
  },
  {
   "cell_type": "code",
   "execution_count": 3,
   "metadata": {
    "collapsed": true
   },
   "outputs": [],
   "source": [
    "#fill 0s for missing values\n",
    "promoted_content.fillna(0, inplace=True)\n",
    "clicks_train.fillna(0,inplace=True)"
   ]
  },
  {
   "cell_type": "code",
   "execution_count": 4,
   "metadata": {},
   "outputs": [
    {
     "data": {
      "text/plain": [
       "(87141731, 3)"
      ]
     },
     "execution_count": 4,
     "metadata": {},
     "output_type": "execute_result"
    }
   ],
   "source": [
    "clicks_train.shape"
   ]
  },
  {
   "cell_type": "code",
   "execution_count": 5,
   "metadata": {},
   "outputs": [
    {
     "data": {
      "text/plain": [
       "(32225162, 2)"
      ]
     },
     "execution_count": 5,
     "metadata": {},
     "output_type": "execute_result"
    }
   ],
   "source": [
    "clicks_test.shape"
   ]
  },
  {
   "cell_type": "code",
   "execution_count": 4,
   "metadata": {
    "collapsed": true
   },
   "outputs": [],
   "source": [
    "#merge training clicks with promoted content on ad id\n",
    "train_promoted=clicks_train.merge(promoted_content,on='ad_id' ,how='left')"
   ]
  },
  {
   "cell_type": "code",
   "execution_count": 5,
   "metadata": {},
   "outputs": [
    {
     "name": "stdout",
     "output_type": "stream",
     "text": [
      "         ad_id      prob\n",
      "0            1  0.000000\n",
      "1            2  0.045455\n",
      "2            3  0.068323\n",
      "3            4  0.125000\n",
      "4            5  0.000000\n",
      "5            6  0.000000\n",
      "6            7  0.289196\n",
      "7            8  0.142857\n",
      "8            9  0.000000\n",
      "9           10  0.111111\n",
      "10          11  0.000000\n",
      "11          12  0.166667\n",
      "12          13  0.125000\n",
      "13          14  0.100000\n",
      "14          15  0.000000\n",
      "15          16  0.333333\n",
      "16          17  0.100000\n",
      "17          18  0.000000\n",
      "18          20  0.000000\n",
      "19          21  0.000000\n",
      "20          22  0.000000\n",
      "21          23  0.181818\n",
      "22          24  0.000000\n",
      "23          25  0.000000\n",
      "24          26  0.045455\n",
      "25          27  0.000000\n",
      "26          28  0.000000\n",
      "27          29  0.000000\n",
      "28          30  0.000000\n",
      "29          31  0.166667\n",
      "...        ...       ...\n",
      "478920  547501  0.000000\n",
      "478921  547504  0.000000\n",
      "478922  547505  0.000000\n",
      "478923  547509  0.000000\n",
      "478924  547513  0.000000\n",
      "478925  547522  0.125000\n",
      "478926  547548  0.750000\n",
      "478927  547552  0.000000\n",
      "478928  547554  0.000000\n",
      "478929  547561  0.000000\n",
      "478930  547562  0.000000\n",
      "478931  547572  0.000000\n",
      "478932  547573  0.000000\n",
      "478933  547576  0.000000\n",
      "478934  547581  0.000000\n",
      "478935  547582  0.222222\n",
      "478936  547584  0.000000\n",
      "478937  547585  0.000000\n",
      "478938  547586  1.000000\n",
      "478939  547592  0.000000\n",
      "478940  547625  0.000000\n",
      "478941  547678  0.000000\n",
      "478942  547812  1.000000\n",
      "478943  547864  0.000000\n",
      "478944  547865  0.000000\n",
      "478945  547866  0.250000\n",
      "478946  547875  0.000000\n",
      "478947  547879  0.000000\n",
      "478948  547924  0.000000\n",
      "478949  548019  1.000000\n",
      "\n",
      "[478950 rows x 2 columns]\n"
     ]
    }
   ],
   "source": [
    "#calculate ads ctr \n",
    "train_ctr=clicks_train.groupby(['ad_id']).clicked.agg(['count' ,'sum']).reset_index()\n",
    "train_ctr['prob']=train_ctr['sum']/train_ctr['count']\n",
    "train_ctr=train_ctr.drop(['count','sum'],1)\n",
    "print(train_ctr)"
   ]
  },
  {
   "cell_type": "code",
   "execution_count": 6,
   "metadata": {
    "collapsed": true
   },
   "outputs": [],
   "source": [
    "#merge the calculated ctr to promoted_content based on 'ad_id'\n",
    "promoted_content=promoted_content.merge(train_ctr,on='ad_id' ,how='left')\n",
    "promoted_content.fillna(0, inplace=True)\n",
    "del train_ctr"
   ]
  },
  {
   "cell_type": "code",
   "execution_count": 7,
   "metadata": {
    "collapsed": true
   },
   "outputs": [],
   "source": [
    "events = pd.read_csv(\"/home/nisha/Outbrain/events.csv\")\n",
    "events=events[['display_id','platform']]\n",
    "events.platform = events.platform.astype(str)"
   ]
  },
  {
   "cell_type": "code",
   "execution_count": 9,
   "metadata": {
    "collapsed": true
   },
   "outputs": [],
   "source": [
    "train_events=clicks_train.merge(events,on='display_id' ,how='left')\n",
    "train_events=train_events.groupby('platform').clicked.agg(['count' ,'sum']).reset_index()\n",
    "train_events['platform_ctr']= (train_events['sum'] ) / (train_events['count'])"
   ]
  },
  {
   "cell_type": "code",
   "execution_count": 8,
   "metadata": {},
   "outputs": [
    {
     "name": "stdout",
     "output_type": "stream",
     "text": [
      "clicks_train+events done\n",
      "clicks_test+events done\n"
     ]
    }
   ],
   "source": [
    "train_events=train_events.drop(['platform','count','sum'],1)\n",
    "clicks_test=clicks_test.merge(events,on='display_id' ,how='left')"
   ]
  },
  {
   "cell_type": "code",
   "execution_count": 10,
   "metadata": {
    "collapsed": true
   },
   "outputs": [],
   "source": [
    "#Merge click_trains and promoted_content on ad_id and calculate probability\n",
    "promoted_campaign= promoted_content.groupby('campaign_id').clicked.agg(['count' ,'sum']).reset_index()\n",
    "promoted_campaign['cmpg_prob']= (promoted_adv['sum']) / (promoted_adv['count'])\n",
    "promoted_campaign=pd.DataFrame(promoted_campaign).sort_values('cmpg_prob')\n",
    "promoted_campaign=promoted_campaign.drop('count',1)\n",
    "promoted_campaign=promoted_campaign.drop('sum',1)"
   ]
  },
  {
   "cell_type": "code",
   "execution_count": 11,
   "metadata": {
    "collapsed": true
   },
   "outputs": [],
   "source": [
    "#Merge click_trains and  promoted_content on ad_id and calculate advertiser_score\n",
    "promoted_adv= promoted_content.groupby('advertiser_id').clicked.agg(['count' ,'sum']).reset_index()\n",
    "promoted_adv['adv_prob']= (promoted_adv['sum']) / (promoted_adv['count'])\n",
    "promoted_adv=promoted_adv.drop('count',1)\n",
    "promoted_adv=promoted_adv.drop('sum',1)"
   ]
  },
  {
   "cell_type": "code",
   "execution_count": 12,
   "metadata": {},
   "outputs": [
    {
     "name": "stdout",
     "output_type": "stream",
     "text": [
      "campg_score and adv_score done\n"
     ]
    }
   ],
   "source": [
    "#add the calculated campaigner_score and advertiser_score to promoted_content\n",
    "promoted_content=promoted_content.merge(promoted_adv,on='advertiser_id',how='left').merge(df_cmpg,on='campaign_id',how='left')\n",
    "promoted_content=promoted_content.drop('campaign_id',1)\n",
    "promoted_content=promoted_content.drop('advertiser_id',1)"
   ]
  },
  {
   "cell_type": "code",
   "execution_count": 13,
   "metadata": {},
   "outputs": [
    {
     "name": "stdout",
     "output_type": "stream",
     "text": [
      "         ad_id  document_id  prob_Score  adv_Score  cmpg_Score\n",
      "0            1         6614    0.000000   0.202470    0.240752\n",
      "1            2       471467    0.025000   0.202470    0.125249\n",
      "2            3         7692    0.061453   0.202470    0.113260\n",
      "3            4       471471    0.080000   0.202470    0.125249\n",
      "4            5       471472    0.000000   0.202470    0.125249\n",
      "5            6        12736    0.000000   0.202470    0.240752\n",
      "6            7        12808    0.287675   0.202470    0.240752\n",
      "7            8       471477    0.086957   0.202470    0.125249\n",
      "8            9        13379    0.000000   0.202470    0.240752\n",
      "9           10        13885    0.090909   0.202470    0.240752\n",
      "10          11        14230    0.000000   0.202470    0.240752\n",
      "11          12       446701    0.066667   0.113761    0.067039\n",
      "12          13       471499    0.038462   0.113761    0.067039\n",
      "13          14       471500    0.035714   0.113761    0.067039\n",
      "14          15       471501    0.000000   0.113761    0.067039\n",
      "15          16       471514    0.047619   0.113761    0.053763\n",
      "16          17       471517    0.052632   0.113761    0.067039\n",
      "17          18       471518    0.000000   0.113761    0.067039\n",
      "18          19       471519    0.000000   0.113761    0.030534\n",
      "19          20       446660    0.000000   0.113761    0.031008\n",
      "20          21        20896    0.000000   0.113761    0.021277\n",
      "21          22        21203    0.000000   0.113761    0.067039\n",
      "22          23        21112    0.068966   0.113761    0.067039\n",
      "23          24        20100    0.000000   0.113761    0.067039\n",
      "24          25        25921    0.000000   0.202470    0.240752\n",
      "25          26       471529    0.025000   0.113761    0.053763\n",
      "26          27       471530    0.000000   0.113761    0.053763\n",
      "27          28       471534    0.000000   0.113761    0.067039\n",
      "28          29       471536    0.000000   0.113761    0.053691\n",
      "29          30       471539    0.000000   0.113761    0.067039\n",
      "...        ...          ...         ...        ...         ...\n",
      "559553  572914      2504969    0.000000        NaN         NaN\n",
      "559554  572915      2504969    0.000000        NaN         NaN\n",
      "559555  572916      2402560    0.000000        NaN         NaN\n",
      "559556  572917      2504969    0.000000        NaN         NaN\n",
      "559557  572918      2504969    0.000000        NaN         NaN\n",
      "559558  572919      2402560    0.000000        NaN         NaN\n",
      "559559  572920      2402560    0.000000        NaN         NaN\n",
      "559560  572921      2402560    0.000000        NaN         NaN\n",
      "559561  572922      2402560    0.000000        NaN         NaN\n",
      "559562  572923      2402560    0.000000        NaN         NaN\n",
      "559563  572924      2402560    0.000000        NaN         NaN\n",
      "559564  572925      2402560    0.000000        NaN         NaN\n",
      "559565  572926      2402560    0.000000        NaN         NaN\n",
      "559566  572927      2402560    0.000000        NaN         NaN\n",
      "559567  572928      2402560    0.000000        NaN         NaN\n",
      "559568  572929      2402560    0.000000        NaN         NaN\n",
      "559569  572930      2402560    0.000000        NaN         NaN\n",
      "559570  572931      2402560    0.000000        NaN         NaN\n",
      "559571  572932      2402560    0.000000        NaN         NaN\n",
      "559572  572933      2402560    0.000000        NaN         NaN\n",
      "559573  572934      2402560    0.000000        NaN         NaN\n",
      "559574  572935      2402560    0.000000        NaN         NaN\n",
      "559575  572936      2402560    0.000000        NaN         NaN\n",
      "559576  572937      2402560    0.000000        NaN         NaN\n",
      "559577  572938      2402560    0.000000        NaN         NaN\n",
      "559578  572968      1375496    0.000000   0.365588    0.165690\n",
      "559579  573016      1051466    0.000000   0.365588    0.165690\n",
      "559580  573081       497486    0.000000   0.365588    0.165690\n",
      "559581  573094      2868067    0.000000   0.186442    0.167996\n",
      "559582  573098      2790678    0.000000   0.275918    0.161644\n",
      "\n",
      "[559583 rows x 5 columns]\n"
     ]
    }
   ],
   "source": [
    "print(promoted_content)"
   ]
  },
  {
   "cell_type": "code",
   "execution_count": 13,
   "metadata": {},
   "outputs": [
    {
     "name": "stdout",
     "output_type": "stream",
     "text": [
      "X (join of pl_score and promoted_content) creation done\n"
     ]
    }
   ],
   "source": [
    "#create final training_data file -merge promoted_content and df_events\n",
    "gc.collect()\n",
    "X=events.merge(promoted_content,how='left',on='ad_id')\n",
    "promoted_content=promoted_content.drop('document_id',1)\n",
    "df=events.drop(['ad_id','display_id','clicked'],1)\n",
    "del events\n",
    "df=df.drop_duplicates()"
   ]
  },
  {
   "cell_type": "code",
   "execution_count": 14,
   "metadata": {},
   "outputs": [
    {
     "name": "stdout",
     "output_type": "stream",
     "text": [
      "X array created\n"
     ]
    }
   ],
   "source": [
    "Y=np.array(X['clicked'])\n",
    "X= X.drop(['ad_id','display_id','clicked','document_id','ad_id_pl'],1)\n",
    "X=np.array (X)\n",
    "print(\"X array created\")"
   ]
  },
  {
   "cell_type": "code",
   "execution_count": 16,
   "metadata": {},
   "outputs": [
    {
     "name": "stdout",
     "output_type": "stream",
     "text": [
      "[[ 0.19629527  0.16701992  0.2225146   0.16701992]\n",
      " [ 0.1689008   0.16324856  0.170883    0.15096548]\n",
      " [ 0.29403468  0.32420757  0.31435508  0.31435508]\n",
      " ..., \n",
      " [ 0.37459283  0.37459283  0.21405144  0.35585415]\n",
      " [ 0.24398178  0.24398178  0.18644197  0.1679962 ]\n",
      " [ 0.17469011  0.16773028  0.14241466  0.14241466]]\n",
      "[0 0 1 ..., 0 0 0]\n",
      "          ad_id_pl  ad_pl_Score\n",
      "0          42337_3     0.196295\n",
      "1         139684_3     0.168901\n",
      "2         144739_3     0.294035\n",
      "3         156824_3     0.039135\n",
      "4         279295_3     0.264000\n",
      "5         296965_3     0.000000\n",
      "6         125211_2     0.150410\n",
      "7         156535_2     0.000000\n",
      "8         169564_2     0.094862\n",
      "9         308455_2     0.352018\n",
      "10         71547_2     0.080171\n",
      "11         95814_2     0.235476\n",
      "12        152141_2     0.163235\n",
      "13        183846_2     0.202232\n",
      "14        228657_2     0.154098\n",
      "15        250082_2     0.038334\n",
      "16        149930_2     0.146012\n",
      "17        153623_2     0.233444\n",
      "18        184709_2     0.069848\n",
      "19        186849_2     0.149480\n",
      "20        233730_2     0.144254\n",
      "21         54606_2     0.208232\n",
      "22        162868_2     0.274576\n",
      "23        184548_2     0.210151\n",
      "24        282674_2     0.057971\n",
      "25        326514_2     0.072464\n",
      "26         85397_3     0.071135\n",
      "27        160754_3     0.115865\n",
      "28        173388_3     0.078509\n",
      "29        175234_3     0.242071\n",
      "...            ...          ...\n",
      "87137007  508556_3     0.000000\n",
      "87137047  296282_1     0.000000\n",
      "87137333  511896_2     0.000000\n",
      "87137351  139966_3     0.000000\n",
      "87137383  187114_1     0.000000\n",
      "87137419  417678_2     0.000000\n",
      "87137443  546825_3     0.000000\n",
      "87137557  182940_1     0.000000\n",
      "87137735  485089_2     0.000000\n",
      "87137846  231818_3     0.052632\n",
      "87137872  220395_3     0.000000\n",
      "87138105  519214_1     0.000000\n",
      "87138318  520623_3     0.000000\n",
      "87138909   98666_3     0.052632\n",
      "87139025  288726_3     0.000000\n",
      "87139317  145692_3     0.000000\n",
      "87139319  328741_3     0.000000\n",
      "87139370  469157_3     0.000000\n",
      "87139400  232041_1     0.000000\n",
      "87139509  209578_1     0.000000\n",
      "87139657  248844_2     0.052632\n",
      "87139825  216728_3     0.000000\n",
      "87139984  482047_1     0.000000\n",
      "87140178  533121_1     0.000000\n",
      "87140205  279468_1     0.000000\n",
      "87140214  547068_1     0.000000\n",
      "87140860  495235_1     0.000000\n",
      "87141482  104841_1     0.000000\n",
      "87141569  509329_2     0.000000\n",
      "87141667  218347_3     0.000000\n",
      "\n",
      "[696736 rows x 2 columns]\n"
     ]
    }
   ],
   "source": [
    "print(X)\n",
    "print(Y)\n",
    "print(df)"
   ]
  },
  {
   "cell_type": "code",
   "execution_count": 15,
   "metadata": {},
   "outputs": [
    {
     "name": "stdout",
     "output_type": "stream",
     "text": [
      "X_test created\n"
     ]
    }
   ],
   "source": [
    "click_train=click_train.merge(df,on='ad_id_pl' ,how='left')\n",
    "del df\n",
    "gc.collect()\n",
    "click_train=click_train.merge(promoted_content,how='left',on='ad_id')\n",
    "del promoted_content\n",
    "click_train= click_train.drop(['display_id','ad_id','platform','ad_id_pl'],1)\n",
    "click_train.fillna(value=0,inplace=True)\n",
    "print(\"X_test created\")"
   ]
  },
  {
   "cell_type": "code",
   "execution_count": null,
   "metadata": {
    "collapsed": true
   },
   "outputs": [],
   "source": [
    "from sklearn.svm import SVC\n",
    "SVC(C=1.0, class_weight=None, coef0=0.0,\n",
    "    decision_function_shape=None, degree=2, gamma='auto', kernel='rbf',\n",
    "    max_iter=-1, probability=True, random_state=None, shrinking=True,\n",
    "    tol=0.001, verbose=False)\n",
    "clf=SVC()\n",
    "clf.fit(X,Y)\n",
    "print(clf.score(X,Y))"
   ]
  },
  {
   "cell_type": "code",
   "execution_count": 15,
   "metadata": {},
   "outputs": [
    {
     "name": "stdout",
     "output_type": "stream",
     "text": [
      "0.769427199008\n",
      "0.769427199008\n"
     ]
    }
   ],
   "source": [
    "from sklearn.naive_bayes import GaussianNB\n",
    "gnb_clf = GaussianNB()\n",
    "gnb_clf.fit(X, Y)\n",
    "print(accuracy_score(Y, gnb_clf.predict(X)))\n",
    "print(gnb_clf.score(X,Y))"
   ]
  },
  {
   "cell_type": "code",
   "execution_count": 17,
   "metadata": {},
   "outputs": [
    {
     "name": "stdout",
     "output_type": "stream",
     "text": [
      "0.809769236739\n",
      "0.809769236739\n",
      "model fit done\n"
     ]
    }
   ],
   "source": [
    "#Applying Model\n",
    "gc.collect()\n",
    "reg=SGDClassifier(loss= 'log', penalty= 'l2')\n",
    "reg.fit(X,Y)\n",
    "print(accuracy_score(Y, reg.predict(X)))\n",
    "print(reg.score(X,Y))\n",
    "output= reg.decision_function(X_test)\n",
    "#plt.hist(output)\n",
    "#plt.show()\n",
    "print(\"model fit done\")"
   ]
  },
  {
   "cell_type": "code",
   "execution_count": null,
   "metadata": {
    "collapsed": true
   },
   "outputs": [],
   "source": [
    "from sklearn.ensemble import RandomForestClassifier\n",
    "rf = RandomForestClassifier(random_state=1, class_weight=\"balanced\", n_estimators=25, max_depth=6)\n",
    "rf.fit(X, Y)\n",
    "print(accuracy_score(Y, rf.predict(X)))\n",
    "print(rf.score(X,Y))"
   ]
  },
  {
   "cell_type": "code",
   "execution_count": 20,
   "metadata": {},
   "outputs": [
    {
     "name": "stdout",
     "output_type": "stream",
     "text": [
      "   display_id                                     ad_id\n",
      "0    16874594  170392 172888 162754 66758 150083 180797\n",
      "<class 'pandas.core.frame.DataFrame'>\n"
     ]
    }
   ],
   "source": [
    "#Create submission File\n",
    "output=pd.read_csv('/home/nisha/Outbrain/clicks_test.csv').merge(pd.DataFrame(output,columns=['prediction']), left_index=True,right_index=True)\n",
    "output.sort_values(['display_id','prediction'], inplace=True, ascending=False)\n",
    "#.isin(16874594,16874595,16874596,16874597,16874598)].sort('prob_Score'))\n",
    "subm = output.groupby('display_id').ad_id.apply(lambda x: \" \".join(map(str,x))).reset_index()\n",
    "print(subm[subm[\"display_id\"]==16874594])\n",
    "#subm.to_csv('/home/nisha/Outbrain/submission_file_1.csv', index=False)\n",
    "#print(\"output stored\")\n",
    "print(type(subm))"
   ]
  },
  {
   "cell_type": "code",
   "execution_count": 23,
   "metadata": {},
   "outputs": [
    {
     "name": "stdout",
     "output_type": "stream",
     "text": [
      "done\n"
     ]
    }
   ],
   "source": [
    "subm.to_csv(r'submission_file_2.csv', index=False)\n",
    "print(\"done\")"
   ]
  },
  {
   "cell_type": "code",
   "execution_count": null,
   "metadata": {
    "collapsed": true
   },
   "outputs": [],
   "source": []
  }
 ],
 "metadata": {
  "kernelspec": {
   "display_name": "Python 3",
   "language": "python",
   "name": "python3"
  },
  "language_info": {
   "codemirror_mode": {
    "name": "ipython",
    "version": 3
   },
   "file_extension": ".py",
   "mimetype": "text/x-python",
   "name": "python",
   "nbconvert_exporter": "python",
   "pygments_lexer": "ipython3",
   "version": "3.6.3"
  }
 },
 "nbformat": 4,
 "nbformat_minor": 2
}
